{
 "cells": [
  {
   "cell_type": "markdown",
   "metadata": {},
   "source": [
    "## Homework Module 2: Vector Search"
   ]
  },
  {
   "cell_type": "markdown",
   "metadata": {},
   "source": [
    "## Q1. What's the minimal value in this array?"
   ]
  },
  {
   "cell_type": "code",
   "execution_count": 59,
   "metadata": {},
   "outputs": [
    {
     "name": "stdout",
     "output_type": "stream",
     "text": [
      "Mininum value of the vector:  -0.11726373551188797\n"
     ]
    }
   ],
   "source": [
    "from fastembed import TextEmbedding\n",
    "import numpy as np\n",
    "\n",
    "query = \"I just discovered the course. Can I join now?\"\n",
    "model_name = \"jinaai/jina-embeddings-v2-small-en\"\n",
    "\n",
    "# Dense Text Embeddings\n",
    "embedding_model = TextEmbedding(model_name=model_name)\n",
    "query_embedded = np.array(list(embedding_model.embed(query)))\n",
    "\n",
    "print(\"Mininum value of the vector: \", query_embedded.min())"
   ]
  },
  {
   "cell_type": "markdown",
   "metadata": {},
   "source": [
    "## Q2. What's the cosine similarity between the vector for the query and the vector for the document?"
   ]
  },
  {
   "cell_type": "code",
   "execution_count": 63,
   "metadata": {},
   "outputs": [
    {
     "name": "stdout",
     "output_type": "stream",
     "text": [
      "(1, 512)\n",
      "(512,)\n",
      "Cosine Similarity:  0.9008528856818037\n"
     ]
    }
   ],
   "source": [
    "\n",
    "doc = 'Can I still join the course after the start date?'\n",
    "\n",
    "# Number of column of the first matrix must be equal to the number of rows of the second matrix\n",
    "# query_embedded matrix shape -> (1, 512)\n",
    "# doc_embedded matrix shape -> (1, 512)\n",
    "# For the current shape, both matrixes are violation the role of matrix multiplication\n",
    "# To fix it, we can transform one of the matrix into 1D\n",
    "# doc_embedded (1, 512) -> (512, )\n",
    "doc_embedded = np.array(list(embedding_model.embed(doc)))[0]\n",
    "\n",
    "print(query_embedded.shape)\n",
    "print(doc_embedded.shape)\n",
    "print(\"Cosine Similarity: \", query_embedded.dot(doc_embedded)[0])"
   ]
  },
  {
   "cell_type": "markdown",
   "metadata": {},
   "source": [
    "## Q3. What's the document index with the highest similarity?\n"
   ]
  },
  {
   "cell_type": "code",
   "execution_count": null,
   "metadata": {},
   "outputs": [
    {
     "name": "stdout",
     "output_type": "stream",
     "text": [
      "Document index with the highest similarity:  1\n"
     ]
    }
   ],
   "source": [
    "documents = [{'text': \"Yes, even if you don't register, you're still eligible to submit the homeworks.\\nBe aware, however, that there will be deadlines for turning in the final projects. So don't leave everything for the last minute.\",\n",
    "  'section': 'General course-related questions',\n",
    "  'question': 'Course - Can I still join the course after the start date?',\n",
    "  'course': 'data-engineering-zoomcamp'},\n",
    " {'text': 'Yes, we will keep all the materials after the course finishes, so you can follow the course at your own pace after it finishes.\\nYou can also continue looking at the homeworks and continue preparing for the next cohort. I guess you can also start working on your final capstone project.',\n",
    "  'section': 'General course-related questions',\n",
    "  'question': 'Course - Can I follow the course after it finishes?',\n",
    "  'course': 'data-engineering-zoomcamp'},\n",
    " {'text': \"The purpose of this document is to capture frequently asked technical questions\\nThe exact day and hour of the course will be 15th Jan 2024 at 17h00. The course will start with the first  “Office Hours'' live.1\\nSubscribe to course public Google Calendar (it works from Desktop only).\\nRegister before the course starts using this link.\\nJoin the course Telegram channel with announcements.\\nDon’t forget to register in DataTalks.Club's Slack and join the channel.\",\n",
    "  'section': 'General course-related questions',\n",
    "  'question': 'Course - When will the course start?',\n",
    "  'course': 'data-engineering-zoomcamp'},\n",
    " {'text': 'You can start by installing and setting up all the dependencies and requirements:\\nGoogle cloud account\\nGoogle Cloud SDK\\nPython 3 (installed with Anaconda)\\nTerraform\\nGit\\nLook over the prerequisites and syllabus to see if you are comfortable with these subjects.',\n",
    "  'section': 'General course-related questions',\n",
    "  'question': 'Course - What can I do before the course starts?',\n",
    "  'course': 'data-engineering-zoomcamp'},\n",
    " {'text': 'Star the repo! Share it with friends if you find it useful ❣️\\nCreate a PR if you see you can improve the text or the structure of the repository.',\n",
    "  'section': 'General course-related questions',\n",
    "  'question': 'How can we contribute to the course?',\n",
    "  'course': 'data-engineering-zoomcamp'}]\n",
    "\n",
    "cosine_distance = []\n",
    "\n",
    "for document in documents:\n",
    "    embedded_text = np.array(list(embedding_model.embed(document[\"text\"])))[0]\n",
    "    cosine_dist = query_embedded.dot(embedded_text)[0]\n",
    "    cosine_distance.append(cosine_dist)\n",
    "\n",
    "max_index = np.argmax(cosine_distance)\n",
    "\n",
    "print(\"Document index with the highest similarity: \", max_index)"
   ]
  },
  {
   "cell_type": "markdown",
   "metadata": {},
   "source": [
    "## Q4. Embed question and text fields and compute the cosine distance. What's the highest scoring document?"
   ]
  },
  {
   "cell_type": "code",
   "execution_count": 76,
   "metadata": {},
   "outputs": [
    {
     "name": "stdout",
     "output_type": "stream",
     "text": [
      "Full document text index with the highest similarity:  0\n"
     ]
    }
   ],
   "source": [
    "full_text_cosine_distance = []\n",
    "\n",
    "for document in documents:\n",
    "    full_text = document[\"question\"] + \" \" + document[\"text\"]\n",
    "    embedded_full_text = np.array(list(embedding_model.embed(full_text)))[0]\n",
    "    cosine_dist = query_embedded.dot(embedded_full_text)[0]\n",
    "    full_text_cosine_distance.append(cosine_dist)\n",
    "\n",
    "max_index = np.argmax(full_text_cosine_distance)\n",
    "\n",
    "print(\"Full document text index with the highest similarity: \", max_index)"
   ]
  },
  {
   "cell_type": "markdown",
   "metadata": {},
   "source": [
    "## Q5. What's the smallest dimensionality for models in fastembed?"
   ]
  },
  {
   "cell_type": "code",
   "execution_count": 82,
   "metadata": {},
   "outputs": [
    {
     "name": "stdout",
     "output_type": "stream",
     "text": [
      "Smallest dimensionality:  384\n"
     ]
    }
   ],
   "source": [
    "dimensionality = []\n",
    "\n",
    "for model in TextEmbedding.list_supported_models():\n",
    "    dimensionality.append(model[\"dim\"])\n",
    "\n",
    "min_dim = min(dimensionality)\n",
    "\n",
    "print(\"Smallest dimensionality: \", min_dim)"
   ]
  },
  {
   "cell_type": "markdown",
   "metadata": {},
   "source": [
    "## Q6. After inserting data into Qdrant, what's the highest score in the results?"
   ]
  },
  {
   "cell_type": "code",
   "execution_count": null,
   "metadata": {},
   "outputs": [],
   "source": [
    "import requests\n",
    "\n",
    "docs_url = 'https://github.com/alexeygrigorev/llm-rag-workshop/raw/main/notebooks/documents.json'\n",
    "response = requests.get(docs_url)\n",
    "documents_raw = response.json()\n",
    "\n",
    "documents = []\n",
    "\n",
    "for course in documents_raw:\n",
    "    if course[\"course\"] == \"machine-learning-zoomcamp\":\n",
    "        for doc in course[\"documents\"]:\n",
    "            doc[\"course\"] = course[\"course\"]\n",
    "            documents.append(doc)\n"
   ]
  },
  {
   "cell_type": "code",
   "execution_count": null,
   "metadata": {},
   "outputs": [],
   "source": [
    "from qdrant_client import QdrantClient, models\n",
    "import json\n",
    "\n",
    "qdrant = QdrantClient(\"http://localhost:6333\")\n",
    "\n",
    "EMBEDDING_DIMENSIONALITY = 384\n",
    "\n",
    "for model in TextEmbedding.list_supported_models():\n",
    "    if model[\"dim\"] == EMBEDDING_DIMENSIONALITY:\n",
    "        print(json.dumps(model, indent=2))\n",
    "\n",
    "embedding_model = \"BAAI/bge-small-en-v1.5\""
   ]
  },
  {
   "cell_type": "code",
   "execution_count": 88,
   "metadata": {},
   "outputs": [
    {
     "data": {
      "text/plain": [
       "True"
      ]
     },
     "execution_count": 88,
     "metadata": {},
     "output_type": "execute_result"
    }
   ],
   "source": [
    "collection_name = \"machine-learning-zoomcamp\"\n",
    "\n",
    "qdrant.create_collection(\n",
    "    collection_name=collection_name,\n",
    "    vectors_config=models.VectorParams(\n",
    "        size=EMBEDDING_DIMENSIONALITY,\n",
    "        distance=models.Distance.COSINE\n",
    "    )\n",
    ")"
   ]
  },
  {
   "cell_type": "code",
   "execution_count": 91,
   "metadata": {},
   "outputs": [
    {
     "data": {
      "text/plain": [
       "UpdateResult(operation_id=0, status=<UpdateStatus.COMPLETED: 'completed'>)"
      ]
     },
     "execution_count": 91,
     "metadata": {},
     "output_type": "execute_result"
    }
   ],
   "source": [
    "import uuid\n",
    "\n",
    "points = []\n",
    "\n",
    "for document in documents:\n",
    "    full_text = document[\"question\"] + \" \" + document[\"text\"]\n",
    "    point = models.PointStruct(\n",
    "        id = uuid.uuid4().hex,\n",
    "        vector=models.Document(text=full_text, model=embedding_model),\n",
    "        payload={\n",
    "            \"text\": document[\"text\"],\n",
    "            \"section\": document[\"section\"],\n",
    "            \"course\": document[\"course\"]\n",
    "        }\n",
    "    )\n",
    "    points.append(point)\n",
    "\n",
    "qdrant.upsert(\n",
    "    collection_name=collection_name,\n",
    "    points=points\n",
    ")"
   ]
  },
  {
   "cell_type": "code",
   "execution_count": 98,
   "metadata": {},
   "outputs": [
    {
     "name": "stdout",
     "output_type": "stream",
     "text": [
      "Highest score:  0.73974764\n"
     ]
    }
   ],
   "source": [
    "results = qdrant.query_points(\n",
    "    collection_name=collection_name,\n",
    "    query=models.Document(\n",
    "        text=query,\n",
    "        model=embedding_model\n",
    "    ),\n",
    "    limit=5,\n",
    "    with_payload=True\n",
    ")\n",
    "\n",
    "score = results.points[0].score\n",
    "\n",
    "print(\"Highest score: \", score)"
   ]
  }
 ],
 "metadata": {
  "kernelspec": {
   "display_name": "env",
   "language": "python",
   "name": "python3"
  },
  "language_info": {
   "codemirror_mode": {
    "name": "ipython",
    "version": 3
   },
   "file_extension": ".py",
   "mimetype": "text/x-python",
   "name": "python",
   "nbconvert_exporter": "python",
   "pygments_lexer": "ipython3",
   "version": "3.12.8"
  }
 },
 "nbformat": 4,
 "nbformat_minor": 2
}
