{
 "cells": [
  {
   "cell_type": "markdown",
   "metadata": {},
   "source": [
    "# Homework Module 1"
   ]
  },
  {
   "cell_type": "markdown",
   "metadata": {},
   "source": [
    "## Q1. Running Elastic Search\n",
    "\n",
    "What's the `version.build_hash` value?\n",
    "\n",
    "A: 42f05b9372a9a4a470db3b52817899b99a76ee73"
   ]
  },
  {
   "cell_type": "code",
   "execution_count": null,
   "metadata": {},
   "outputs": [],
   "source": [
    "response = {\n",
    "    \"name\": \"c25bf73d9244\",\n",
    "    \"cluster_name\": \"docker-cluster\",\n",
    "    \"cluster_uuid\": \"hALgKmI0QFSax3AcYqm1CQ\",\n",
    "    \"version\": {\n",
    "        \"number\": \"8.4.3\",\n",
    "        \"build_flavor\": \"default\",\n",
    "        \"build_type\": \"docker\",\n",
    "        \"build_hash\": \"42f05b9372a9a4a470db3b52817899b99a76ee73\",\n",
    "        \"build_date\": \"2022-10-04T07:17:24.662462378Z\",\n",
    "        \"build_snapshot\": \"false\",\n",
    "        \"lucene_version\": \"9.3.0\",\n",
    "        \"minimum_wire_compatibility_version\": \"7.17.0\",\n",
    "        \"minimum_index_compatibility_version\": \"7.0.0\"\n",
    "    },\n",
    "    \"tagline\": \"You Know, for Search\"\n",
    "}"
   ]
  },
  {
   "cell_type": "markdown",
   "metadata": {},
   "source": [
    "## Q2. Which function do you use for adding your data to elastic?\n",
    "\n",
    "A: `index`"
   ]
  },
  {
   "cell_type": "code",
   "execution_count": 8,
   "metadata": {},
   "outputs": [],
   "source": [
    "import requests\n",
    "from elasticsearch import Elasticsearch\n",
    "\n",
    "docs_url = 'https://github.com/DataTalksClub/llm-zoomcamp/blob/main/01-intro/documents.json?raw=1'\n",
    "response = requests.get(docs_url)\n",
    "raw_docs = response.json()\n",
    "\n",
    "documents = []\n",
    "\n",
    "for item in raw_docs:\n",
    "    course_name = item[\"course\"]\n",
    "\n",
    "    for doc in item[\"documents\"]:\n",
    "        doc[\"course\"] = course_name\n",
    "        documents.append(doc)\n",
    "\n",
    "elastic_search = Elasticsearch('http://localhost:9200/')\n",
    "body_settings = {\n",
    "    \"settings\": {\n",
    "        \"number_of_shards\": 1,\n",
    "        \"number_of_replicas\": 0\n",
    "    },\n",
    "    \"mappings\": {\n",
    "        \"properties\": {\n",
    "            \"text\": {\"type\": \"text\"},\n",
    "            \"section\": {\"type\": \"text\"},\n",
    "            \"question\": {\"type\": \"text\"},\n",
    "            \"course\": {\"type\": \"keyword\"}\n",
    "        }\n",
    "    }\n",
    "}\n",
    "index_name = \"course-questions-homework\"\n",
    "\n",
    "elastic_search.indices.create(index=index_name, body=body_settings)\n",
    "\n",
    "for document in documents:\n",
    "    elastic_search.index(index=index_name, document=document)\n"
   ]
  },
  {
   "cell_type": "markdown",
   "metadata": {},
   "source": [
    "## Q3. What's the score for the top ranking result?\n",
    "\n",
    "A: 24.50"
   ]
  },
  {
   "cell_type": "code",
   "execution_count": 26,
   "metadata": {},
   "outputs": [
    {
     "data": {
      "text/plain": [
       "31.973522"
      ]
     },
     "execution_count": 26,
     "metadata": {},
     "output_type": "execute_result"
    }
   ],
   "source": [
    "question = \"How do execute a command on a Kubernetes pod?\"\n",
    "\n",
    "search_query = {\n",
    "    \"size\": 5,\n",
    "    \"query\": {\n",
    "        \"bool\": {\n",
    "            \"must\": {\n",
    "                \"multi_match\": {\n",
    "                    \"query\": question,\n",
    "                    \"fields\": [\"question^4\", \"text\"],\n",
    "                    \"type\": \"best_fields\"\n",
    "                }\n",
    "            },\n",
    "            \"filter\": {\n",
    "                \"term\": {\n",
    "                    \"course\": \"data-engineering-zoomcamp\"\n",
    "                }\n",
    "            }\n",
    "        }\n",
    "    }\n",
    "}\n",
    "\n",
    "response = elastic_search.search(index = index_name, body= search_query)\n",
    "\n",
    "scores = []\n",
    "\n",
    "for item in response[\"hits\"][\"hits\"]:\n",
    "    score = item[\"_score\"]\n",
    "    scores.append(score)\n",
    "\n",
    "max(scores)"
   ]
  },
  {
   "cell_type": "markdown",
   "metadata": {},
   "source": [
    "## Q4. What's the 3rd question returned by the search engine?\n",
    "\n",
    "A: 'How do I copy files from a different folder into docker container’s working directory?'"
   ]
  },
  {
   "cell_type": "code",
   "execution_count": 27,
   "metadata": {},
   "outputs": [
    {
     "data": {
      "text/plain": [
       "'How do I copy files from a different folder into docker container’s working directory?'"
      ]
     },
     "execution_count": 27,
     "metadata": {},
     "output_type": "execute_result"
    }
   ],
   "source": [
    "question = \"How do copy a file to a Docker container?\"\n",
    "\n",
    "search_query = {\n",
    "    \"size\": 5,\n",
    "    \"query\": {\n",
    "        \"bool\": {\n",
    "            \"must\": {\n",
    "                \"multi_match\": {\n",
    "                    \"query\": question,\n",
    "                    \"fields\": [\"question^4\", \"text\"],\n",
    "                    \"type\": \"best_fields\"\n",
    "                }\n",
    "            },\n",
    "            \"filter\": {\n",
    "                \"term\": {\n",
    "                    \"course\": \"machine-learning-zoomcamp\"\n",
    "                }\n",
    "            }\n",
    "        }\n",
    "    }\n",
    "}\n",
    "\n",
    "response = elastic_search.search(index = index_name, body= search_query)\n",
    "\n",
    "result_docs = []\n",
    "for hit in response[\"hits\"][\"hits\"]:\n",
    "    result_docs.append(hit[\"_source\"])\n",
    "\n",
    "questions = []\n",
    "for item in response[\"hits\"][\"hits\"]:\n",
    "    question = item[\"_source\"][\"question\"]\n",
    "    questions.append(question)\n",
    "\n",
    "questions[2]"
   ]
  },
  {
   "cell_type": "markdown",
   "metadata": {},
   "source": [
    "## Q5. What's the length of the resulting prompt?\n",
    "\n",
    "A: 2446"
   ]
  },
  {
   "cell_type": "code",
   "execution_count": 31,
   "metadata": {},
   "outputs": [
    {
     "data": {
      "text/plain": [
       "2474"
      ]
     },
     "execution_count": 31,
     "metadata": {},
     "output_type": "execute_result"
    }
   ],
   "source": [
    "question =  \"How do I execute a command in a running docker container?\"\n",
    "\n",
    "prompt_template = \"\"\"\n",
    "        You're a course teaching assistant. Answer the QUESTION based on the CONTEXT from the FAQ database.\n",
    "        Use only the facts from the CONTEXT when answering the QUESTION.\n",
    "\n",
    "        QUESTION: {question}\n",
    "\n",
    "        CONTEXT:\n",
    "        {context}\n",
    "    \"\"\".strip()\n",
    "\n",
    "context = \"\"\n",
    "\n",
    "for doc in result_docs:\n",
    "    context += f\"section: {doc[\"section\"]}\\nquestion: {doc[\"question\"]}\\nanswer: {doc[\"text\"]}\\n\\n\"\n",
    "\n",
    "prompt = prompt_template.format(\n",
    "    question = question,\n",
    "    context = context\n",
    ")\n",
    "\n",
    "len(prompt)"
   ]
  },
  {
   "cell_type": "markdown",
   "metadata": {},
   "source": [
    "## Q6. How many tokens does our prompt have?\n",
    "\n",
    "A: 420"
   ]
  },
  {
   "cell_type": "code",
   "execution_count": 38,
   "metadata": {},
   "outputs": [
    {
     "name": "stdout",
     "output_type": "stream",
     "text": [
      "b' course'\n"
     ]
    },
    {
     "data": {
      "text/plain": [
       "545"
      ]
     },
     "execution_count": 38,
     "metadata": {},
     "output_type": "execute_result"
    }
   ],
   "source": [
    "import tiktoken\n",
    "\n",
    "encoding = tiktoken.encoding_for_model(\"gpt-4o\")\n",
    "tokens = encoding.encode(prompt)\n",
    "decoding_token = encoding.decode_single_token_bytes(4165)\n",
    "\n",
    "print(decoding_token)\n",
    "len(tokens)\n"
   ]
  },
  {
   "cell_type": "markdown",
   "metadata": {},
   "source": [
    "## Bonus: Generating the answer"
   ]
  },
  {
   "cell_type": "code",
   "execution_count": 39,
   "metadata": {},
   "outputs": [],
   "source": [
    "%load_ext dotenv\n",
    "%dotenv"
   ]
  },
  {
   "cell_type": "code",
   "execution_count": 43,
   "metadata": {},
   "outputs": [
    {
     "data": {
      "text/plain": [
       "'To execute a command in a running Docker container, you can use the following steps:\\n\\n1. List all running containers to find the container ID of the one you want to execute a command in:\\n\\n   ```bash\\n   docker ps\\n   ```\\n\\n2. Use the `docker exec` command to run a command inside the running container. For example, to start a bash session:\\n\\n   ```bash\\n   docker exec -it <container-id> bash\\n   ```\\n\\nReplace `<container-id>` with the container ID obtained from the `docker ps` command.'"
      ]
     },
     "execution_count": 43,
     "metadata": {},
     "output_type": "execute_result"
    }
   ],
   "source": [
    "from openai import OpenAI\n",
    "\n",
    "openai_client = OpenAI()\n",
    "\n",
    "response = openai_client.chat.completions.create(\n",
    "    model=\"gpt-4o\",\n",
    "    messages=[{\"role\": \"user\", \"content\": prompt}]\n",
    ")\n",
    "\n",
    "response.choices[0].message.content"
   ]
  },
  {
   "cell_type": "markdown",
   "metadata": {},
   "source": [
    "## Bonus: Calculating the costs"
   ]
  },
  {
   "cell_type": "code",
   "execution_count": 50,
   "metadata": {},
   "outputs": [
    {
     "name": "stdout",
     "output_type": "stream",
     "text": [
      "Total cost of 1000 requests:  4.5 $\n"
     ]
    }
   ],
   "source": [
    "input_tokens_price = 0.005\n",
    "output_tokens_price = 0.015\n",
    "\n",
    "input_tokens = 150\n",
    "output_tokens = 250\n",
    "\n",
    "input_tokens_amount = (input_tokens_price * input_tokens) / 1000\n",
    "output_tokens_amount = (output_tokens_price * output_tokens) / 1000\n",
    "cost_per_request = input_tokens_amount + output_tokens_amount\n",
    "\n",
    "total_requests = 1000\n",
    "\n",
    "cost_total_requests = total_requests * cost_per_request\n",
    "\n",
    "print(\"Total cost of 1000 requests: \", str(cost_total_requests), \"$\")"
   ]
  }
 ],
 "metadata": {
  "kernelspec": {
   "display_name": "env",
   "language": "python",
   "name": "python3"
  },
  "language_info": {
   "codemirror_mode": {
    "name": "ipython",
    "version": 3
   },
   "file_extension": ".py",
   "mimetype": "text/x-python",
   "name": "python",
   "nbconvert_exporter": "python",
   "pygments_lexer": "ipython3",
   "version": "3.12.8"
  }
 },
 "nbformat": 4,
 "nbformat_minor": 2
}
