{
 "cells": [
  {
   "cell_type": "code",
   "execution_count": 5,
   "metadata": {},
   "outputs": [
    {
     "name": "stdout",
     "output_type": "stream",
     "text": [
      "The dotenv extension is already loaded. To reload it, use:\n",
      "  %reload_ext dotenv\n"
     ]
    }
   ],
   "source": [
    "from openai import OpenAI\n",
    "\n",
    "%load_ext dotenv\n",
    "%dotenv"
   ]
  },
  {
   "cell_type": "code",
   "execution_count": 9,
   "metadata": {},
   "outputs": [
    {
     "data": {
      "text/plain": [
       "\"I'm not sure which course you're referring to, but if you're interested in joining a course, here are some general steps you can take to find out if it's too late:\\n\\n1. **Check Enrollment Deadlines**: Look for any official communication from the course provider regarding enrollment deadlines.\\n\\n2. **Contact the Provider**: Reach out directly to the organization or institution offering the course. They can provide the most accurate information.\\n\\n3. **Visit the Course Website**: If available, the course website usually has the most up-to-date information about registration dates and deadlines.\\n\\n4. **Consider Late Enrollment Options**: Some courses offer late enrollment or have waiting lists. It might be worth asking if these options are available.\\n\\nRemember that even if it's too late for one session, there might be future sessions you could join.\""
      ]
     },
     "execution_count": 9,
     "metadata": {},
     "output_type": "execute_result"
    }
   ],
   "source": [
    "client = OpenAI()\n",
    "\n",
    "response = client.chat.completions.create(\n",
    "    model=\"gpt-4o\",\n",
    "    messages=[{\"role\": \"user\", \"content\": \"is it too late to joint the course?\"}]\n",
    ")\n",
    "\n",
    "response.choices[0].message.content\n",
    "\n"
   ]
  }
 ],
 "metadata": {
  "kernelspec": {
   "display_name": "env",
   "language": "python",
   "name": "python3"
  },
  "language_info": {
   "codemirror_mode": {
    "name": "ipython",
    "version": 3
   },
   "file_extension": ".py",
   "mimetype": "text/x-python",
   "name": "python",
   "nbconvert_exporter": "python",
   "pygments_lexer": "ipython3",
   "version": "3.12.8"
  }
 },
 "nbformat": 4,
 "nbformat_minor": 2
}
